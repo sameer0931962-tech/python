{
  "nbformat": 4,
  "nbformat_minor": 0,
  "metadata": {
    "colab": {
      "provenance": []
    },
    "kernelspec": {
      "name": "python3",
      "display_name": "Python 3"
    },
    "language_info": {
      "name": "python"
    }
  },
  "cells": [
    {
      "cell_type": "markdown",
      "source": [],
      "metadata": {
        "id": "7bEzHXnsBXrg"
      }
    },
    {
      "cell_type": "markdown",
      "source": [
        "1. What is Python, and why is it popular?     \n",
        "\n",
        "      \n",
        "    Python is a programming language used to tell computers what to do. It's like giving  instructions in English, but in a way that computers understand\n",
        "\n",
        "   Python is a programming language used to tell computers what to do. It's like giving instructions in English, but in a way that computers understand.\n",
        "\n",
        "   Versatile – You can use it to make websites, apps, games, data analysis, AI, and more.\n",
        "\n",
        "   Lots of help – Huge community, so it’s easy to find help, tools, and tutorials.\n",
        "\n",
        "   used by big companies – Like Google, Netflix, and Instagram.\n",
        "\n",
        "   Free – Anyone can use and share it.\n",
        "\n",
        "   \n",
        "\n",
        "\n",
        "\n",
        "\n"
      ],
      "metadata": {
        "id": "qOVlVkLwBfp9"
      }
    },
    {
      "cell_type": "markdown",
      "source": [
        "2. What is an interpreter in Python?\n",
        "\n",
        "   An interpreter in Python is a tool that reads and runs your code one line at a time.\n",
        "   The Python interpreter takes that line, translates it into computer language, and runs it immediately.\n",
        "   \n",
        "   ( EX )\n",
        "   \n",
        "   You = speak Python\n",
        "\n",
        "   Computer = understands only machine language\n",
        "\n",
        "\n",
        "   Interpreter = a translator who helps you talk to the computer\n",
        "   Why it's useful:\n",
        "   Runs code line by line\n",
        "\n",
        "\n",
        "   Helps you catch errors quickly\n",
        "\n",
        "\n",
        "   Great for beginners to test and learn\n",
        "\n",
        "\n",
        "\n"
      ],
      "metadata": {
        "id": "BbhxuiDzDIHx"
      }
    },
    {
      "cell_type": "markdown",
      "source": [
        " 3. What are pre-defined keywords in Python?\n",
        "\n",
        "    Pre-defined keywords in Python are special words that have a fixed meaning — you can't use them for anything else.\n",
        "    These words are already reserved by Python to do specific things.\n",
        "    Example keywords:\n",
        "    if – for decisions\n",
        "\n",
        "\n",
        "    for – for loops\n",
        "\n",
        "\n",
        "    def – to define a function\n",
        "\n",
        "\n",
        "    class – to create a class\n",
        "\n",
        "\n",
        "    return – to return a value from a function\n",
        "    Example list of Python keywords (just a few):\n",
        "    8 Can keywords be used as variable names\n",
        "\n",
        "   "
      ],
      "metadata": {
        "id": "QID_TPyqEV0u"
      }
    },
    {
      "cell_type": "code",
      "source": [
        "if, else, elif\n",
        "\n",
        "while, for, break, continue\n",
        "\n",
        "def, return, class\n",
        "\n",
        "True, False, None\n",
        "\n",
        "and, or, not, in, is"
      ],
      "metadata": {
        "id": "WB6As68YFq_y"
      },
      "execution_count": null,
      "outputs": []
    },
    {
      "cell_type": "markdown",
      "source": [
        "4. Can keywords be used as variable names\n",
        "\n",
        "    No, keywords cannot be used as variable names in most programming languages, including Python, Java, C, C++, and JavaScript.\n",
        "\n",
        "    Why?\n",
        "\n",
        "    Keywords are reserved words that have special meaning in the language syntax — they define the structure and flow of a program (e.g., if, while, for, class, def, etc.). Using them as variable names would confuse\n",
        "    the compiler or interpreter.\n",
        "    \n",
        "\n"
      ],
      "metadata": {
        "id": "6NuSLUE6F4vJ"
      }
    },
    {
      "cell_type": "code",
      "source": [
        "if = 5 # SyntaxError: invalid syntax"
      ],
      "metadata": {
        "id": "fB7VYJwlGrO3"
      },
      "execution_count": null,
      "outputs": []
    },
    {
      "cell_type": "code",
      "source": [
        "if_value = 5 # valid\n",
        "if_value"
      ],
      "metadata": {
        "colab": {
          "base_uri": "https://localhost:8080/"
        },
        "id": "2H8vEyrGG7pV",
        "outputId": "6e439caa-0b43-4b55-f738-0b04226502f8"
      },
      "execution_count": 2,
      "outputs": [
        {
          "output_type": "execute_result",
          "data": {
            "text/plain": [
              "5"
            ]
          },
          "metadata": {},
          "execution_count": 2
        }
      ]
    },
    {
      "cell_type": "markdown",
      "source": [
        "5. What is mutability in Python?\n",
        "\n",
        "    In Python, mutability refers to whether an object can be changed (mutated) after it is created.\n",
        "\n",
        "    Examples:\n",
        "\n",
        "    list\n",
        "\n",
        "    dict\n",
        "\n",
        "    set\n",
        "\n",
        "    bytearray"
      ],
      "metadata": {
        "id": "A2n0eLqNHY--"
      }
    },
    {
      "cell_type": "code",
      "source": [
        "my_list = [1,2,3]\n",
        "my_list[0] = 0 # Changing the first element\n",
        "my_list"
      ],
      "metadata": {
        "colab": {
          "base_uri": "https://localhost:8080/"
        },
        "id": "RMuGwoqGIAa0",
        "outputId": "1950ffcb-74a0-4dea-84f0-a2115693785a"
      },
      "execution_count": 3,
      "outputs": [
        {
          "output_type": "execute_result",
          "data": {
            "text/plain": [
              "[0, 2, 3]"
            ]
          },
          "metadata": {},
          "execution_count": 3
        }
      ]
    },
    {
      "cell_type": "markdown",
      "source": [],
      "metadata": {
        "id": "5mY9JyX8G2ie"
      }
    },
    {
      "cell_type": "markdown",
      "source": [
        "These cannot be changed after creation. Any operation that tries to change them actually creates a new object.\n",
        "\n",
        "   Examples:\n",
        "\n",
        "  int\n",
        "\n",
        "   float\n",
        "\n",
        "   str\n",
        "\n",
        "   tuple\n",
        "\n",
        "   frozenset\n",
        "\n",
        "   bytes\n",
        "\n",
        "\n"
      ],
      "metadata": {
        "id": "y7G_SavnIyz9"
      }
    },
    {
      "cell_type": "code",
      "source": [
        "name = \"Alice\"\n",
        "name = name.replace(\"A\", \"M\")  # Creates a new string\n",
        "print(name)  # \"Mlice\""
      ],
      "metadata": {
        "colab": {
          "base_uri": "https://localhost:8080/"
        },
        "id": "S_ivKH6IJPUs",
        "outputId": "ced91ec8-9c39-4d29-e3ab-cae4e510ebc6"
      },
      "execution_count": 4,
      "outputs": [
        {
          "output_type": "stream",
          "name": "stdout",
          "text": [
            "Mlice\n"
          ]
        }
      ]
    },
    {
      "cell_type": "markdown",
      "source": [
        "  Even though it looks like the string was modified, a new string was created and assigned to name."
      ],
      "metadata": {
        "id": "A7ne0v-fJeLm"
      }
    },
    {
      "cell_type": "markdown",
      "source": [
        "6. Why are lists mutable, but tuples are immutable?\n",
        "\n",
        "    the difference between mutable lists and immutable tuples in Python comes down to their design purpose and internal structure.\n",
        "    Lists are mutable\n",
        "\n",
        "    Lists are designed to be flexible and allow in-place modifications. That  means you can:\n",
        "\n",
        "    Add elements (append, extend)\n",
        "\n",
        "    Remove elements (pop, remove)\n",
        "\n",
        "    Change elements by index (my_list[0] = new_value)\n",
        "\n",
        "    Why are they mutable?\n",
        "\n",
        "    Because they are intended for dynamic collections where the size and content may change frequently.\n",
        "\n",
        "    Example:"
      ],
      "metadata": {
        "id": "wuNTzPtfKdJR"
      }
    },
    {
      "cell_type": "code",
      "source": [
        "my_list = [1, 2, 3]\n",
        "my_list.append(4)\n",
        "my_list[0] = 100\n",
        "print(my_list)  # [100, 2, 3, 4]"
      ],
      "metadata": {
        "colab": {
          "base_uri": "https://localhost:8080/"
        },
        "id": "wAIv9qO4K9Jn",
        "outputId": "0393cab9-4814-4554-eb1f-ba9b84dcfe3a"
      },
      "execution_count": 5,
      "outputs": [
        {
          "output_type": "stream",
          "name": "stdout",
          "text": [
            "[100, 2, 3, 4]\n"
          ]
        }
      ]
    },
    {
      "cell_type": "markdown",
      "source": [
        "1 Tuples are immutable\n",
        "\n",
        "  Tuples are designed to be fixed-size, read-only collections. Once created, their elements cannot be changed, added, or removed.\n",
        "\n",
        "2 Why are they immutable?\n",
        "\n",
        "  Performance: Tuples are smaller and faster to access.\n",
        "\n",
        "  Hashability: Tuples can be used as keys in dictionaries (if all elements are also immutable).\n",
        "\n",
        "   Data integrity: Tuples are good for fixed configurations or constants — data that shouldn't be accidentally modified."
      ],
      "metadata": {
        "id": "I18IS5o3LYhR"
      }
    },
    {
      "cell_type": "code",
      "source": [
        "my_tuple = (1, 2, 3)\n",
        "my_tuple[0] = 100  # ❌ TypeError: 'tuple' object does not support item assignment"
      ],
      "metadata": {
        "colab": {
          "base_uri": "https://localhost:8080/",
          "height": 162
        },
        "id": "O_dfMu9mL02r",
        "outputId": "4c5b0981-ff17-4228-8b82-16ccd1144b12"
      },
      "execution_count": 6,
      "outputs": [
        {
          "output_type": "error",
          "ename": "TypeError",
          "evalue": "'tuple' object does not support item assignment",
          "traceback": [
            "\u001b[0;31m---------------------------------------------------------------------------\u001b[0m",
            "\u001b[0;31mTypeError\u001b[0m                                 Traceback (most recent call last)",
            "\u001b[0;32m/tmp/ipython-input-771382994.py\u001b[0m in \u001b[0;36m<cell line: 0>\u001b[0;34m()\u001b[0m\n\u001b[1;32m      1\u001b[0m \u001b[0mmy_tuple\u001b[0m \u001b[0;34m=\u001b[0m \u001b[0;34m(\u001b[0m\u001b[0;36m1\u001b[0m\u001b[0;34m,\u001b[0m \u001b[0;36m2\u001b[0m\u001b[0;34m,\u001b[0m \u001b[0;36m3\u001b[0m\u001b[0;34m)\u001b[0m\u001b[0;34m\u001b[0m\u001b[0;34m\u001b[0m\u001b[0m\n\u001b[0;32m----> 2\u001b[0;31m \u001b[0mmy_tuple\u001b[0m\u001b[0;34m[\u001b[0m\u001b[0;36m0\u001b[0m\u001b[0;34m]\u001b[0m \u001b[0;34m=\u001b[0m \u001b[0;36m100\u001b[0m  \u001b[0;31m# ❌ TypeError: 'tuple' object does not support item assignment\u001b[0m\u001b[0;34m\u001b[0m\u001b[0;34m\u001b[0m\u001b[0m\n\u001b[0m",
            "\u001b[0;31mTypeError\u001b[0m: 'tuple' object does not support item assignment"
          ]
        }
      ]
    },
    {
      "cell_type": "markdown",
      "source": [
        "7. What is the difference between “==” and “is” operators in Python?\n",
        "    Sure! Here's a simple and easy explanation of the difference between == and is in Python:\n",
        "\n",
        "    == → Checks if values are the same\n",
        "\n",
        "    It checks if the contents are equal.\n",
        "\n",
        "    Even if two objects are stored in different places in memory, if their values are the same, == will return True."
      ],
      "metadata": {
        "id": "-NR-tTHJMAUp"
      }
    },
    {
      "cell_type": "code",
      "source": [
        "a = [1, 2, 3]\n",
        "b = [1, 2, 3]\n",
        "\n",
        "print(a == b)  # ✅ True → same contents"
      ],
      "metadata": {
        "id": "WMsMvFiMMglp"
      },
      "execution_count": null,
      "outputs": []
    },
    {
      "cell_type": "markdown",
      "source": [
        "is → Checks if objects are the same (in memory)\n",
        "\n",
        "It checks if both variables point to the exact same object in memory.\n",
        "\n",
        "Even if the values are the same, if they are two different objects, is returns False."
      ],
      "metadata": {
        "id": "orJ-NKl7MmjF"
      }
    },
    {
      "cell_type": "code",
      "source": [
        "a = [1, 2, 3]\n",
        "b = [1, 2, 3]\n",
        "\n",
        "print(a is b)  # ❌ False → different objects in memory\n"
      ],
      "metadata": {
        "id": "TVsS0OigMrVv"
      },
      "execution_count": null,
      "outputs": []
    },
    {
      "cell_type": "code",
      "source": [
        "# one more example\n",
        "x = \"hello\"\n",
        "y = \"hello\"\n",
        "\n",
        "print(x == y)  # ✅ True → same value\n",
        "print(x is y)  # ✅ True in this case (strings are cached), but don't rely on this\n"
      ],
      "metadata": {
        "id": "K4XfJS7VMwpn"
      },
      "execution_count": null,
      "outputs": []
    },
    {
      "cell_type": "markdown",
      "source": [
        "8. What are logical operators in Python?\n",
        "\n",
        "   ** What are Logical Operators?**\n",
        "\n",
        "    Logical operators are used to combine conditions (True or False values) in Python.\n",
        "\n",
        "    There are three main logical operators:"
      ],
      "metadata": {
        "id": "iBM2id-VNidE"
      }
    },
    {
      "cell_type": "markdown",
      "source": [],
      "metadata": {
        "id": "sC7RMUqlNg4S"
      }
    },
    {
      "cell_type": "code",
      "source": [
        " # 1. and → Both must be True\n",
        " x = 5\n",
        "print(x > 2 and x < 10)  # ✅ True (both conditions are True)"
      ],
      "metadata": {
        "id": "Y9fVFPy5N4X6"
      },
      "execution_count": null,
      "outputs": []
    },
    {
      "cell_type": "markdown",
      "source": [
        "Think: \"This AND That must be true\""
      ],
      "metadata": {
        "id": "KDOViC5uOgh7"
      }
    },
    {
      "cell_type": "code",
      "source": [
        "#2. or → At least one must be True\n",
        "x = 5\n",
        "print(x > 2 or x > 100)  # ✅ True (first one is True)\n"
      ],
      "metadata": {
        "id": "4psDczr0LUVz"
      },
      "execution_count": null,
      "outputs": []
    },
    {
      "cell_type": "markdown",
      "source": [
        "Think: \"This OR That — if either is true, the whole thing is True\""
      ],
      "metadata": {
        "id": "pkP9UITFOZ-m"
      }
    },
    {
      "cell_type": "code",
      "source": [
        "# not → Flips True to False (and vice versa)\n",
        "x = 5\n",
        "print(not x > 10)  # ✅ True (because x > 10 is False, and not False = True)"
      ],
      "metadata": {
        "id": "ygL8m0mSOkA3"
      },
      "execution_count": null,
      "outputs": []
    },
    {
      "cell_type": "markdown",
      "source": [
        "9. What is type casting in Python?\n",
        "    Type casting means changing the data type of a value from one type to another.\n",
        "\n",
        "    You use it when you want to convert between types like int, float, str, etc."
      ],
      "metadata": {
        "id": "5Rqf-e5gPNvK"
      }
    },
    {
      "cell_type": "markdown",
      "source": [
        "Think: \"NOT this — gives the opposite\""
      ],
      "metadata": {
        "id": "p2hX-MhuOuo8"
      }
    },
    {
      "cell_type": "markdown",
      "source": [],
      "metadata": {
        "id": "kpq3YhxAOwaP"
      }
    },
    {
      "cell_type": "markdown",
      "source": [
        "10. What is the difference between implicit and explicit type casting\n",
        "\n",
        "    Implicit Type Casting: Automatic conversion of data type by Python during execution, without programmer's intervention.\n",
        "\n",
        "    Explicit Type Casting: Manual conversion of data type by the programmer using functions like int(), float(), str(), etc."
      ],
      "metadata": {
        "id": "rQ_b4gloPmfg"
      }
    },
    {
      "cell_type": "markdown",
      "source": [
        "11. What is the purpose of conditional statements in Python?\n",
        "\n",
        "    The purpose of conditional statements is to allow a Python program to make decisions and execute certain code only when specific conditions are true.\n",
        "\n",
        "    They help your program choose different paths based on different situations.\n",
        "\n",
        "    if\n",
        "\n",
        "    elif (else if)\n",
        "\n",
        "    else"
      ],
      "metadata": {
        "id": "7D6qZ8E6QrRL"
      }
    },
    {
      "cell_type": "markdown",
      "source": [
        "12. How does the elif statement work?\n",
        "\n",
        "   \n",
        "    The elif statement in Python is short for “else if” and lets you check multiple conditions one after another.\n",
        "\n",
        "    Python tests each condition in order.\n",
        "\n",
        "    When it finds the first condition that is True, it runs that block of code.\n",
        "\n",
        "    It skips all the rest after the first True condition.\n",
        "\n",
        "    If none are True, it can run the optional else block."
      ],
      "metadata": {
        "id": "7Q6pb22FRNWz"
      }
    },
    {
      "cell_type": "markdown",
      "source": [
        "13. What is the difference between for and while loops?\n",
        "\n",
        "    for loop\n",
        "\n",
        "    Runs a fixed number of times or iterates over items in a sequence (like a list, string, or range).\n",
        "\n",
        "    You know how many times it will run beforehand\n",
        "\n",
        "    while loop\n",
        "\n",
        "    Runs as long as a condition is True.\n",
        "\n",
        "    You might not know how many times it will run — depends on the condition."
      ],
      "metadata": {
        "id": "NNjuITbiRzZ3"
      }
    },
    {
      "cell_type": "markdown",
      "source": [
        "14. Describe a scenario where a while loop is more suitable than a for loop?\n",
        "\n",
        "    A while loop is more suitable when you need to repeat an action until a specific condition changes, but you don’t know in advance how many times that will take.\n",
        "\n",
        "    Example scenario:\n",
        "\n",
        "    Waiting for a sensor to reach a certain value\n",
        "\n",
        "    Imagine a program that reads temperature from a sensor and should keep checking until the temperature reaches 100 degrees. Since you don’t know how many readings it will take, a while loop fits best:"
      ],
      "metadata": {
        "id": "2ka2K56TSxIO"
      }
    },
    {
      "cell_type": "markdown",
      "source": [
        "# Practical Questions"
      ],
      "metadata": {
        "id": "wrIrhMzBTK-e"
      }
    },
    {
      "cell_type": "markdown",
      "source": [
        "1. Write a Python program to print \"Hello, World!?"
      ],
      "metadata": {
        "id": "rosXnwJFTO99"
      }
    },
    {
      "cell_type": "code",
      "source": [
        "print(\"hello,world!\")"
      ],
      "metadata": {
        "colab": {
          "base_uri": "https://localhost:8080/"
        },
        "id": "YHWYsV9KX4bD",
        "outputId": "978e2dbc-2c91-455b-a59f-851b24607ceb"
      },
      "execution_count": 41,
      "outputs": [
        {
          "output_type": "stream",
          "name": "stdout",
          "text": [
            "hello,world!\n"
          ]
        }
      ]
    },
    {
      "cell_type": "markdown",
      "source": [
        "2. Write a Python program that displays your name and age?\n"
      ],
      "metadata": {
        "id": "7qUyswZSY3f7"
      }
    },
    {
      "cell_type": "code",
      "source": [
        "name = \"sameer\"\n",
        "age = \"21\""
      ],
      "metadata": {
        "id": "MFt1UHMiY8B_"
      },
      "execution_count": 44,
      "outputs": []
    },
    {
      "cell_type": "code",
      "source": [
        "print(f\"My name is {name}\")\n",
        "print(f\"I am {age} years old\")\n",
        "\n"
      ],
      "metadata": {
        "colab": {
          "base_uri": "https://localhost:8080/"
        },
        "id": "jMRKdQQxY2Eh",
        "outputId": "827f9c6c-574b-4136-8276-7138fe8bcd25"
      },
      "execution_count": 48,
      "outputs": [
        {
          "output_type": "stream",
          "name": "stdout",
          "text": [
            "My name is sameer\n",
            "I am 21 years old\n"
          ]
        }
      ]
    },
    {
      "cell_type": "markdown",
      "source": [
        " 3. Write code to print all the pre-defined keywords in Python using the keyword library?"
      ],
      "metadata": {
        "id": "MWAdSwUybm6o"
      }
    },
    {
      "cell_type": "markdown",
      "source": [],
      "metadata": {
        "id": "OSPLwiv8bQJj"
      }
    },
    {
      "cell_type": "code",
      "source": [
        "import keyword\n",
        "print(\"python keywords:\")\n",
        "for kw in keyword.kwlist:\n",
        "  print(kw)"
      ],
      "metadata": {
        "colab": {
          "base_uri": "https://localhost:8080/"
        },
        "id": "VGWbnX4ScBSu",
        "outputId": "164fc319-222a-47c3-e454-12bf72fae9bf"
      },
      "execution_count": 52,
      "outputs": [
        {
          "output_type": "stream",
          "name": "stdout",
          "text": [
            "python keywords:\n",
            "False\n",
            "None\n",
            "True\n",
            "and\n",
            "as\n",
            "assert\n",
            "async\n",
            "await\n",
            "break\n",
            "class\n",
            "continue\n",
            "def\n",
            "del\n",
            "elif\n",
            "else\n",
            "except\n",
            "finally\n",
            "for\n",
            "from\n",
            "global\n",
            "if\n",
            "import\n",
            "in\n",
            "is\n",
            "lambda\n",
            "nonlocal\n",
            "not\n",
            "or\n",
            "pass\n",
            "raise\n",
            "return\n",
            "try\n",
            "while\n",
            "with\n",
            "yield\n"
          ]
        }
      ]
    },
    {
      "cell_type": "markdown",
      "source": [
        "4. Write a program that checks if a given word is a Python keyword.?"
      ],
      "metadata": {
        "id": "Mjrv2rpldLc0"
      }
    },
    {
      "cell_type": "code",
      "source": [
        "import keyword\n",
        "\n",
        "# Ask the user to enter a word\n",
        "word = input(\"Enter a word: \")\n",
        "\n",
        "# Check if it's a Python keyword\n",
        "if keyword.iskeyword(word):\n",
        "    print(f\"'{word}' is a Python keyword.\")\n",
        "else:\n",
        "    print(f\"'{word}' is NOT a Python keyword.\")\n"
      ],
      "metadata": {
        "colab": {
          "base_uri": "https://localhost:8080/"
        },
        "id": "OKUmikCcdZPm",
        "outputId": "f681b650-77a0-44da-c704-cb2758c496c3"
      },
      "execution_count": 53,
      "outputs": [
        {
          "output_type": "stream",
          "name": "stdout",
          "text": [
            "Enter a word: if\n",
            "'if' is a Python keyword.\n"
          ]
        }
      ]
    },
    {
      "cell_type": "markdown",
      "source": [
        "5. Create a list and tuple in Python, and demonstrate how attempting to change an element works differently for each?"
      ],
      "metadata": {
        "id": "UrcyQuW2dxF3"
      }
    },
    {
      "cell_type": "code",
      "source": [
        "# Creating a list\n",
        "my_list = [10, 20, 30]\n",
        "print(\"Original list:\", my_list)\n",
        "\n",
        "# Changing the second element\n",
        "my_list[1] = 200\n",
        "print(\"Modified list:\", my_list)\n",
        "\n",
        "print(\"----------------------\")\n",
        "\n",
        "# Creating a tuple\n",
        "my_tuple = (10, 20, 30)\n",
        "print(\"Original tuple:\", my_tuple)\n",
        "\n",
        "# Trying to change the second element of the tuple\n",
        "try:\n",
        "    my_tuple[1] = 200\n",
        "except TypeError as e:\n",
        "    print(\"Error while modifying tuple:\", e)"
      ],
      "metadata": {
        "colab": {
          "base_uri": "https://localhost:8080/"
        },
        "id": "brzRwspzejFE",
        "outputId": "fed390ec-b973-4a1e-8ed4-606176147fa7"
      },
      "execution_count": 57,
      "outputs": [
        {
          "output_type": "stream",
          "name": "stdout",
          "text": [
            "Original list: [10, 20, 30]\n",
            "Modified list: [10, 200, 30]\n",
            "----------------------\n",
            "Original tuple: (10, 20, 30)\n",
            "Error while modifying tuple: 'tuple' object does not support item assignment\n"
          ]
        }
      ]
    },
    {
      "cell_type": "markdown",
      "source": [
        "6. Write a function to demonstrate the behavior of mutable and immutable arguments.?"
      ],
      "metadata": {
        "id": "zOcePHQuev99"
      }
    },
    {
      "cell_type": "code",
      "source": [
        " def modify_arguments(my_list, my_number):\n",
        "    # Modify the list (mutable)\n",
        "    my_list.append(100)\n",
        "\n",
        "    # Try to modify the number (immutable)\n",
        "    my_number += 10\n",
        "\n",
        "    print(\"Inside function:\")\n",
        "    print(\"List:\", my_list)\n",
        "    print(\"Number:\", my_number)\n"
      ],
      "metadata": {
        "id": "_QFsji2Be3Um"
      },
      "execution_count": 59,
      "outputs": []
    },
    {
      "cell_type": "code",
      "source": [
        "# Mutable and immutable objects\n",
        "original_list = [1, 2, 3]\n",
        "original_number = 50\n",
        "\n",
        "modify_arguments(original_list, original_number)\n",
        "\n",
        "print(\"\\nOutside function:\")\n",
        "print(\"List:\", original_list)\n",
        "print(\"Number:\", original_number)"
      ],
      "metadata": {
        "colab": {
          "base_uri": "https://localhost:8080/"
        },
        "id": "p7LBqE8ee-H1",
        "outputId": "a0cec64b-c567-434d-d0a7-97d8273e709b"
      },
      "execution_count": 60,
      "outputs": [
        {
          "output_type": "stream",
          "name": "stdout",
          "text": [
            "Inside function:\n",
            "List: [1, 2, 3, 100]\n",
            "Number: 60\n",
            "\n",
            "Outside function:\n",
            "List: [1, 2, 3, 100]\n",
            "Number: 50\n"
          ]
        }
      ]
    },
    {
      "cell_type": "markdown",
      "source": [
        "7. Write a program that performs basic arithmetic operations on two user-input numbers.?"
      ],
      "metadata": {
        "id": "eM3t59WGfEK3"
      }
    },
    {
      "cell_type": "code",
      "source": [
        "# Get input from the user\n",
        "num1 = float(input(\"Enter the first number: \"))\n",
        "num2 = float(input(\"Enter the second number: \"))\n",
        "\n",
        "# Perform arithmetic operations\n",
        "addition = num1 + num2\n",
        "subtraction = num1 - num2\n",
        "multiplication = num1 * num2\n",
        "\n",
        "# Handle division carefully (avoid divide by zero)\n",
        "if num2 != 0:\n",
        "    division = num1 / num2\n",
        "else:\n",
        "    division = \"Undefined (cannot divide by zero)\"\n",
        "\n",
        "# Display results\n",
        "print(\"\\nResults:\")\n",
        "print(\"Addition:\", addition)\n",
        "print(\"Subtraction:\", subtraction)\n",
        "print(\"Multiplication:\", multiplication)\n",
        "print(\"Division:\", division)\n"
      ],
      "metadata": {
        "colab": {
          "base_uri": "https://localhost:8080/"
        },
        "id": "7vYhRud-fH6f",
        "outputId": "46bf1577-afbc-4bf4-a81e-92f16fd3dbb9"
      },
      "execution_count": 61,
      "outputs": [
        {
          "output_type": "stream",
          "name": "stdout",
          "text": [
            "Enter the first number: 10\n",
            "Enter the second number: 2\n",
            "\n",
            "Results:\n",
            "Addition: 12.0\n",
            "Subtraction: 8.0\n",
            "Multiplication: 20.0\n",
            "Division: 5.0\n"
          ]
        }
      ]
    },
    {
      "cell_type": "markdown",
      "source": [
        "8. Write a program to demonstrate the use of logical operators.?"
      ],
      "metadata": {
        "id": "MWPl4k6PfZn_"
      }
    },
    {
      "cell_type": "code",
      "source": [
        "# Take two numbers from the user\n",
        "a = int(input(\"Enter first number: \"))\n",
        "b = int(input(\"Enter second number: \"))\n",
        "\n",
        "# Demonstrate logical AND\n",
        "if a > 0 and b > 0:\n",
        "    print(\"Both numbers are positive.\")\n",
        "\n",
        "# Demonstrate logical OR\n",
        "if a > 0 or b > 0:\n",
        "    print(\"At least one number is positive.\")\n",
        "\n",
        "# Demonstrate logical NOT\n",
        "if not (a > 0 and b > 0):\n",
        "    print(\"At least one number is not positive.\")\n"
      ],
      "metadata": {
        "colab": {
          "base_uri": "https://localhost:8080/"
        },
        "id": "IwWwl7qjfca7",
        "outputId": "089f1197-5878-4912-fac8-54b482049d17"
      },
      "execution_count": 62,
      "outputs": [
        {
          "output_type": "stream",
          "name": "stdout",
          "text": [
            "Enter first number: 5\n",
            "Enter second number: -3\n",
            "At least one number is positive.\n",
            "At least one number is not positive.\n"
          ]
        }
      ]
    },
    {
      "cell_type": "markdown",
      "source": [
        "9. Write a Python program to convert user input from string to integer, float, and boolean types.\n"
      ],
      "metadata": {
        "id": "9hq9OWqzfvvk"
      }
    },
    {
      "cell_type": "code",
      "source": [
        "# Take input from the user (always a string)\n",
        "user_input = input(\"Enter something: \")\n",
        "\n",
        "# Convert to integer (handle error if input is not a valid integer)\n",
        "try:\n",
        "    int_value = int(user_input)\n",
        "except ValueError:\n",
        "    int_value = \"Invalid integer\"\n",
        "\n",
        "# Convert to float (handle error if input is not a valid float)\n",
        "try:\n",
        "    float_value = float(user_input)\n",
        "except ValueError:\n",
        "    float_value = \"Invalid float\"\n",
        "\n",
        "# Convert to boolean\n",
        "# Note: bool() returns False only for empty string \"\", \"0\" is True since it's non-empty string\n",
        "bool_value = bool(user_input)\n",
        "\n",
        "# Display results\n",
        "print(\"\\nConverted values:\")\n",
        "print(\"Integer:\", int_value)\n",
        "print(\"Float:\", float_value)\n",
        "print(\"Boolean:\", bool_value)\n"
      ],
      "metadata": {
        "colab": {
          "base_uri": "https://localhost:8080/"
        },
        "id": "fXReZQKkfxju",
        "outputId": "9625c6ea-aa21-490f-bebf-a3b296d7540e"
      },
      "execution_count": 63,
      "outputs": [
        {
          "output_type": "stream",
          "name": "stdout",
          "text": [
            "Enter something: 25\n",
            "\n",
            "Converted values:\n",
            "Integer: 25\n",
            "Float: 25.0\n",
            "Boolean: True\n"
          ]
        }
      ]
    },
    {
      "cell_type": "markdown",
      "source": [
        "10. Write code to demonstrate type casting with list elements.?"
      ],
      "metadata": {
        "id": "5F8M3z2jgGCx"
      }
    },
    {
      "cell_type": "code",
      "source": [
        "# List of numbers as strings\n",
        "str_list = [\"10\", \"20\", \"30\", \"40\"]\n",
        "\n",
        "# Convert each element from string to integer using list comprehension\n",
        "int_list = [int(item) for item in str_list]\n",
        "\n",
        "print(\"Original list (strings):\", str_list)\n",
        "print(\"Converted list (integers):\", int_list)\n"
      ],
      "metadata": {
        "colab": {
          "base_uri": "https://localhost:8080/"
        },
        "id": "rCRUo7WEgIyk",
        "outputId": "0900675b-168f-44c8-b9bf-4fc0d6b7b27c"
      },
      "execution_count": 64,
      "outputs": [
        {
          "output_type": "stream",
          "name": "stdout",
          "text": [
            "Original list (strings): ['10', '20', '30', '40']\n",
            "Converted list (integers): [10, 20, 30, 40]\n"
          ]
        }
      ]
    },
    {
      "cell_type": "markdown",
      "source": [
        "11. Write a program that checks if a number is positive, negative, or zero.?"
      ],
      "metadata": {
        "id": "Yck0PIv-gSvr"
      }
    },
    {
      "cell_type": "code",
      "source": [
        "# Get number input from the user\n",
        "num = float(input(\"Enter a number: \"))\n",
        "\n",
        "# Check the number\n",
        "if num > 0:\n",
        "    print(\"The number is positive.\")\n",
        "elif num < 0:\n",
        "    print(\"The number is negative.\")\n",
        "else:\n",
        "    print(\"The number is zero.\")\n"
      ],
      "metadata": {
        "colab": {
          "base_uri": "https://localhost:8080/"
        },
        "id": "7rj37_Z5gVZw",
        "outputId": "1a3cf895-febf-4506-ae66-8b498a9eb4be"
      },
      "execution_count": 65,
      "outputs": [
        {
          "output_type": "stream",
          "name": "stdout",
          "text": [
            "Enter a number: 0\n",
            "The number is zero.\n"
          ]
        }
      ]
    },
    {
      "cell_type": "markdown",
      "source": [
        "12. Write a for loop to print numbers from 1 to 10.?\n"
      ],
      "metadata": {
        "id": "oTp7xzePgjtQ"
      }
    },
    {
      "cell_type": "code",
      "source": [
        "for i in range(1, 11):\n",
        "    print(i)\n"
      ],
      "metadata": {
        "colab": {
          "base_uri": "https://localhost:8080/"
        },
        "id": "ElNQmluOgm3H",
        "outputId": "7ca62173-24a1-4b8e-9ff3-59a20e8ab1c3"
      },
      "execution_count": 66,
      "outputs": [
        {
          "output_type": "stream",
          "name": "stdout",
          "text": [
            "1\n",
            "2\n",
            "3\n",
            "4\n",
            "5\n",
            "6\n",
            "7\n",
            "8\n",
            "9\n",
            "10\n"
          ]
        }
      ]
    },
    {
      "cell_type": "markdown",
      "source": [
        "13. Write a Python program to find the sum of all even numbers between 1 and 50.?"
      ],
      "metadata": {
        "id": "sid71FQFgxR7"
      }
    },
    {
      "cell_type": "code",
      "source": [
        "total = 0\n",
        "\n",
        "for num in range(2, 51, 2):  # Start at 2, go up to 50, step by 2 (even numbers)\n",
        "    total += num\n",
        "\n",
        "print(\"Sum of even numbers between 1 and 50 is:\", total)\n"
      ],
      "metadata": {
        "colab": {
          "base_uri": "https://localhost:8080/"
        },
        "id": "iIP8JN7GgxG_",
        "outputId": "6361b0a8-0567-4f1d-f936-f3cf1b96c2a9"
      },
      "execution_count": 67,
      "outputs": [
        {
          "output_type": "stream",
          "name": "stdout",
          "text": [
            "Sum of even numbers between 1 and 50 is: 650\n"
          ]
        }
      ]
    },
    {
      "cell_type": "markdown",
      "source": [
        "14. Write a program to reverse a string using a while loop.?"
      ],
      "metadata": {
        "id": "L1Ds2j03g9-A"
      }
    },
    {
      "cell_type": "code",
      "source": [
        "# Get input string from the user\n",
        "string = input(\"Enter a string: \")\n",
        "\n",
        "reversed_string = \"\"\n",
        "index = len(string) - 1  # Start from the last character\n",
        "\n",
        "# Loop until index is less than 0\n",
        "while index >= 0:\n",
        "    reversed_string += string[index]\n",
        "    index -= 1\n",
        "\n",
        "print(\"Reversed string:\", reversed_string)\n"
      ],
      "metadata": {
        "colab": {
          "base_uri": "https://localhost:8080/"
        },
        "id": "tUL8nevrg-r2",
        "outputId": "de6e9d5c-90c4-411a-8cee-228eceb462a9"
      },
      "execution_count": 68,
      "outputs": [
        {
          "output_type": "stream",
          "name": "stdout",
          "text": [
            "Enter a string: hello, world!\n",
            "Reversed string: !dlrow ,olleh\n"
          ]
        }
      ]
    },
    {
      "cell_type": "markdown",
      "source": [
        "15. Write a Python program to calculate the factorial of a number provided by the user using a while loop.?"
      ],
      "metadata": {
        "id": "YF-RKqeCheuj"
      }
    },
    {
      "cell_type": "code",
      "source": [
        "# Get input from user\n",
        "num = int(input(\"Enter a non-negative integer: \"))\n",
        "\n",
        "# Initialize factorial result and counter\n",
        "factorial = 1\n",
        "i = 1\n",
        "\n",
        "if num < 0:\n",
        "    print(\"Factorial is not defined for negative numbers.\")\n",
        "else:\n",
        "    while i <= num:\n",
        "        factorial *= i\n",
        "        i += 1\n",
        "    print(f\"Factorial of {num} is {factorial}\")\n"
      ],
      "metadata": {
        "colab": {
          "base_uri": "https://localhost:8080/"
        },
        "id": "qnjHIphmhi8I",
        "outputId": "2d1f1efc-25be-49bb-a1ee-c730d162c136"
      },
      "execution_count": 69,
      "outputs": [
        {
          "output_type": "stream",
          "name": "stdout",
          "text": [
            "Enter a non-negative integer: 5\n",
            "Factorial of 5 is 120\n"
          ]
        }
      ]
    },
    {
      "cell_type": "code",
      "source": [
        "from google.colab import drive\n",
        "drive.mount('/content/drive')"
      ],
      "metadata": {
        "id": "H6nEXy85iYW9"
      },
      "execution_count": null,
      "outputs": []
    }
  ]
}